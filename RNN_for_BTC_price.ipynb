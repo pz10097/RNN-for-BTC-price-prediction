{
  "nbformat": 4,
  "nbformat_minor": 0,
  "metadata": {
    "colab": {
      "provenance": [],
      "collapsed_sections": [],
      "authorship_tag": "ABX9TyOEGPHypxHA/BPQ8Rk7vF1n"
    },
    "kernelspec": {
      "name": "python3",
      "display_name": "Python 3"
    },
    "language_info": {
      "name": "python"
    }
  },
  "cells": [
    {
      "cell_type": "code",
      "execution_count": null,
      "metadata": {
        "id": "cVod6zYyn0SJ"
      },
      "outputs": [],
      "source": [
        "import pandas as pd\n",
        "from google.colab import files\n",
        "import io\n",
        "import matplotlib.pyplot as plt\n",
        "import tensorflow as tf\n",
        "import numpy as np\n",
        "from sklearn.preprocessing import MinMaxScaler\n",
        "from sklearn.metrics import mean_squared_error\n",
        "import math"
      ]
    },
    {
      "cell_type": "code",
      "source": [
        "uploaded = files.upload()"
      ],
      "metadata": {
        "colab": {
          "resources": {
            "http://localhost:8080/nbextensions/google.colab/files.js": {
              "data": "Ly8gQ29weXJpZ2h0IDIwMTcgR29vZ2xlIExMQwovLwovLyBMaWNlbnNlZCB1bmRlciB0aGUgQXBhY2hlIExpY2Vuc2UsIFZlcnNpb24gMi4wICh0aGUgIkxpY2Vuc2UiKTsKLy8geW91IG1heSBub3QgdXNlIHRoaXMgZmlsZSBleGNlcHQgaW4gY29tcGxpYW5jZSB3aXRoIHRoZSBMaWNlbnNlLgovLyBZb3UgbWF5IG9idGFpbiBhIGNvcHkgb2YgdGhlIExpY2Vuc2UgYXQKLy8KLy8gICAgICBodHRwOi8vd3d3LmFwYWNoZS5vcmcvbGljZW5zZXMvTElDRU5TRS0yLjAKLy8KLy8gVW5sZXNzIHJlcXVpcmVkIGJ5IGFwcGxpY2FibGUgbGF3IG9yIGFncmVlZCB0byBpbiB3cml0aW5nLCBzb2Z0d2FyZQovLyBkaXN0cmlidXRlZCB1bmRlciB0aGUgTGljZW5zZSBpcyBkaXN0cmlidXRlZCBvbiBhbiAiQVMgSVMiIEJBU0lTLAovLyBXSVRIT1VUIFdBUlJBTlRJRVMgT1IgQ09ORElUSU9OUyBPRiBBTlkgS0lORCwgZWl0aGVyIGV4cHJlc3Mgb3IgaW1wbGllZC4KLy8gU2VlIHRoZSBMaWNlbnNlIGZvciB0aGUgc3BlY2lmaWMgbGFuZ3VhZ2UgZ292ZXJuaW5nIHBlcm1pc3Npb25zIGFuZAovLyBsaW1pdGF0aW9ucyB1bmRlciB0aGUgTGljZW5zZS4KCi8qKgogKiBAZmlsZW92ZXJ2aWV3IEhlbHBlcnMgZm9yIGdvb2dsZS5jb2xhYiBQeXRob24gbW9kdWxlLgogKi8KKGZ1bmN0aW9uKHNjb3BlKSB7CmZ1bmN0aW9uIHNwYW4odGV4dCwgc3R5bGVBdHRyaWJ1dGVzID0ge30pIHsKICBjb25zdCBlbGVtZW50ID0gZG9jdW1lbnQuY3JlYXRlRWxlbWVudCgnc3BhbicpOwogIGVsZW1lbnQudGV4dENvbnRlbnQgPSB0ZXh0OwogIGZvciAoY29uc3Qga2V5IG9mIE9iamVjdC5rZXlzKHN0eWxlQXR0cmlidXRlcykpIHsKICAgIGVsZW1lbnQuc3R5bGVba2V5XSA9IHN0eWxlQXR0cmlidXRlc1trZXldOwogIH0KICByZXR1cm4gZWxlbWVudDsKfQoKLy8gTWF4IG51bWJlciBvZiBieXRlcyB3aGljaCB3aWxsIGJlIHVwbG9hZGVkIGF0IGEgdGltZS4KY29uc3QgTUFYX1BBWUxPQURfU0laRSA9IDEwMCAqIDEwMjQ7CgpmdW5jdGlvbiBfdXBsb2FkRmlsZXMoaW5wdXRJZCwgb3V0cHV0SWQpIHsKICBjb25zdCBzdGVwcyA9IHVwbG9hZEZpbGVzU3RlcChpbnB1dElkLCBvdXRwdXRJZCk7CiAgY29uc3Qgb3V0cHV0RWxlbWVudCA9IGRvY3VtZW50LmdldEVsZW1lbnRCeUlkKG91dHB1dElkKTsKICAvLyBDYWNoZSBzdGVwcyBvbiB0aGUgb3V0cHV0RWxlbWVudCB0byBtYWtlIGl0IGF2YWlsYWJsZSBmb3IgdGhlIG5leHQgY2FsbAogIC8vIHRvIHVwbG9hZEZpbGVzQ29udGludWUgZnJvbSBQeXRob24uCiAgb3V0cHV0RWxlbWVudC5zdGVwcyA9IHN0ZXBzOwoKICByZXR1cm4gX3VwbG9hZEZpbGVzQ29udGludWUob3V0cHV0SWQpOwp9CgovLyBUaGlzIGlzIHJvdWdobHkgYW4gYXN5bmMgZ2VuZXJhdG9yIChub3Qgc3VwcG9ydGVkIGluIHRoZSBicm93c2VyIHlldCksCi8vIHdoZXJlIHRoZXJlIGFyZSBtdWx0aXBsZSBhc3luY2hyb25vdXMgc3RlcHMgYW5kIHRoZSBQeXRob24gc2lkZSBpcyBnb2luZwovLyB0byBwb2xsIGZvciBjb21wbGV0aW9uIG9mIGVhY2ggc3RlcC4KLy8gVGhpcyB1c2VzIGEgUHJvbWlzZSB0byBibG9jayB0aGUgcHl0aG9uIHNpZGUgb24gY29tcGxldGlvbiBvZiBlYWNoIHN0ZXAsCi8vIHRoZW4gcGFzc2VzIHRoZSByZXN1bHQgb2YgdGhlIHByZXZpb3VzIHN0ZXAgYXMgdGhlIGlucHV0IHRvIHRoZSBuZXh0IHN0ZXAuCmZ1bmN0aW9uIF91cGxvYWRGaWxlc0NvbnRpbnVlKG91dHB1dElkKSB7CiAgY29uc3Qgb3V0cHV0RWxlbWVudCA9IGRvY3VtZW50LmdldEVsZW1lbnRCeUlkKG91dHB1dElkKTsKICBjb25zdCBzdGVwcyA9IG91dHB1dEVsZW1lbnQuc3RlcHM7CgogIGNvbnN0IG5leHQgPSBzdGVwcy5uZXh0KG91dHB1dEVsZW1lbnQubGFzdFByb21pc2VWYWx1ZSk7CiAgcmV0dXJuIFByb21pc2UucmVzb2x2ZShuZXh0LnZhbHVlLnByb21pc2UpLnRoZW4oKHZhbHVlKSA9PiB7CiAgICAvLyBDYWNoZSB0aGUgbGFzdCBwcm9taXNlIHZhbHVlIHRvIG1ha2UgaXQgYXZhaWxhYmxlIHRvIHRoZSBuZXh0CiAgICAvLyBzdGVwIG9mIHRoZSBnZW5lcmF0b3IuCiAgICBvdXRwdXRFbGVtZW50Lmxhc3RQcm9taXNlVmFsdWUgPSB2YWx1ZTsKICAgIHJldHVybiBuZXh0LnZhbHVlLnJlc3BvbnNlOwogIH0pOwp9CgovKioKICogR2VuZXJhdG9yIGZ1bmN0aW9uIHdoaWNoIGlzIGNhbGxlZCBiZXR3ZWVuIGVhY2ggYXN5bmMgc3RlcCBvZiB0aGUgdXBsb2FkCiAqIHByb2Nlc3MuCiAqIEBwYXJhbSB7c3RyaW5nfSBpbnB1dElkIEVsZW1lbnQgSUQgb2YgdGhlIGlucHV0IGZpbGUgcGlja2VyIGVsZW1lbnQuCiAqIEBwYXJhbSB7c3RyaW5nfSBvdXRwdXRJZCBFbGVtZW50IElEIG9mIHRoZSBvdXRwdXQgZGlzcGxheS4KICogQHJldHVybiB7IUl0ZXJhYmxlPCFPYmplY3Q+fSBJdGVyYWJsZSBvZiBuZXh0IHN0ZXBzLgogKi8KZnVuY3Rpb24qIHVwbG9hZEZpbGVzU3RlcChpbnB1dElkLCBvdXRwdXRJZCkgewogIGNvbnN0IGlucHV0RWxlbWVudCA9IGRvY3VtZW50LmdldEVsZW1lbnRCeUlkKGlucHV0SWQpOwogIGlucHV0RWxlbWVudC5kaXNhYmxlZCA9IGZhbHNlOwoKICBjb25zdCBvdXRwdXRFbGVtZW50ID0gZG9jdW1lbnQuZ2V0RWxlbWVudEJ5SWQob3V0cHV0SWQpOwogIG91dHB1dEVsZW1lbnQuaW5uZXJIVE1MID0gJyc7CgogIGNvbnN0IHBpY2tlZFByb21pc2UgPSBuZXcgUHJvbWlzZSgocmVzb2x2ZSkgPT4gewogICAgaW5wdXRFbGVtZW50LmFkZEV2ZW50TGlzdGVuZXIoJ2NoYW5nZScsIChlKSA9PiB7CiAgICAgIHJlc29sdmUoZS50YXJnZXQuZmlsZXMpOwogICAgfSk7CiAgfSk7CgogIGNvbnN0IGNhbmNlbCA9IGRvY3VtZW50LmNyZWF0ZUVsZW1lbnQoJ2J1dHRvbicpOwogIGlucHV0RWxlbWVudC5wYXJlbnRFbGVtZW50LmFwcGVuZENoaWxkKGNhbmNlbCk7CiAgY2FuY2VsLnRleHRDb250ZW50ID0gJ0NhbmNlbCB1cGxvYWQnOwogIGNvbnN0IGNhbmNlbFByb21pc2UgPSBuZXcgUHJvbWlzZSgocmVzb2x2ZSkgPT4gewogICAgY2FuY2VsLm9uY2xpY2sgPSAoKSA9PiB7CiAgICAgIHJlc29sdmUobnVsbCk7CiAgICB9OwogIH0pOwoKICAvLyBXYWl0IGZvciB0aGUgdXNlciB0byBwaWNrIHRoZSBmaWxlcy4KICBjb25zdCBmaWxlcyA9IHlpZWxkIHsKICAgIHByb21pc2U6IFByb21pc2UucmFjZShbcGlja2VkUHJvbWlzZSwgY2FuY2VsUHJvbWlzZV0pLAogICAgcmVzcG9uc2U6IHsKICAgICAgYWN0aW9uOiAnc3RhcnRpbmcnLAogICAgfQogIH07CgogIGNhbmNlbC5yZW1vdmUoKTsKCiAgLy8gRGlzYWJsZSB0aGUgaW5wdXQgZWxlbWVudCBzaW5jZSBmdXJ0aGVyIHBpY2tzIGFyZSBub3QgYWxsb3dlZC4KICBpbnB1dEVsZW1lbnQuZGlzYWJsZWQgPSB0cnVlOwoKICBpZiAoIWZpbGVzKSB7CiAgICByZXR1cm4gewogICAgICByZXNwb25zZTogewogICAgICAgIGFjdGlvbjogJ2NvbXBsZXRlJywKICAgICAgfQogICAgfTsKICB9CgogIGZvciAoY29uc3QgZmlsZSBvZiBmaWxlcykgewogICAgY29uc3QgbGkgPSBkb2N1bWVudC5jcmVhdGVFbGVtZW50KCdsaScpOwogICAgbGkuYXBwZW5kKHNwYW4oZmlsZS5uYW1lLCB7Zm9udFdlaWdodDogJ2JvbGQnfSkpOwogICAgbGkuYXBwZW5kKHNwYW4oCiAgICAgICAgYCgke2ZpbGUudHlwZSB8fCAnbi9hJ30pIC0gJHtmaWxlLnNpemV9IGJ5dGVzLCBgICsKICAgICAgICBgbGFzdCBtb2RpZmllZDogJHsKICAgICAgICAgICAgZmlsZS5sYXN0TW9kaWZpZWREYXRlID8gZmlsZS5sYXN0TW9kaWZpZWREYXRlLnRvTG9jYWxlRGF0ZVN0cmluZygpIDoKICAgICAgICAgICAgICAgICAgICAgICAgICAgICAgICAgICAgJ24vYSd9IC0gYCkpOwogICAgY29uc3QgcGVyY2VudCA9IHNwYW4oJzAlIGRvbmUnKTsKICAgIGxpLmFwcGVuZENoaWxkKHBlcmNlbnQpOwoKICAgIG91dHB1dEVsZW1lbnQuYXBwZW5kQ2hpbGQobGkpOwoKICAgIGNvbnN0IGZpbGVEYXRhUHJvbWlzZSA9IG5ldyBQcm9taXNlKChyZXNvbHZlKSA9PiB7CiAgICAgIGNvbnN0IHJlYWRlciA9IG5ldyBGaWxlUmVhZGVyKCk7CiAgICAgIHJlYWRlci5vbmxvYWQgPSAoZSkgPT4gewogICAgICAgIHJlc29sdmUoZS50YXJnZXQucmVzdWx0KTsKICAgICAgfTsKICAgICAgcmVhZGVyLnJlYWRBc0FycmF5QnVmZmVyKGZpbGUpOwogICAgfSk7CiAgICAvLyBXYWl0IGZvciB0aGUgZGF0YSB0byBiZSByZWFkeS4KICAgIGxldCBmaWxlRGF0YSA9IHlpZWxkIHsKICAgICAgcHJvbWlzZTogZmlsZURhdGFQcm9taXNlLAogICAgICByZXNwb25zZTogewogICAgICAgIGFjdGlvbjogJ2NvbnRpbnVlJywKICAgICAgfQogICAgfTsKCiAgICAvLyBVc2UgYSBjaHVua2VkIHNlbmRpbmcgdG8gYXZvaWQgbWVzc2FnZSBzaXplIGxpbWl0cy4gU2VlIGIvNjIxMTU2NjAuCiAgICBsZXQgcG9zaXRpb24gPSAwOwogICAgZG8gewogICAgICBjb25zdCBsZW5ndGggPSBNYXRoLm1pbihmaWxlRGF0YS5ieXRlTGVuZ3RoIC0gcG9zaXRpb24sIE1BWF9QQVlMT0FEX1NJWkUpOwogICAgICBjb25zdCBjaHVuayA9IG5ldyBVaW50OEFycmF5KGZpbGVEYXRhLCBwb3NpdGlvbiwgbGVuZ3RoKTsKICAgICAgcG9zaXRpb24gKz0gbGVuZ3RoOwoKICAgICAgY29uc3QgYmFzZTY0ID0gYnRvYShTdHJpbmcuZnJvbUNoYXJDb2RlLmFwcGx5KG51bGwsIGNodW5rKSk7CiAgICAgIHlpZWxkIHsKICAgICAgICByZXNwb25zZTogewogICAgICAgICAgYWN0aW9uOiAnYXBwZW5kJywKICAgICAgICAgIGZpbGU6IGZpbGUubmFtZSwKICAgICAgICAgIGRhdGE6IGJhc2U2NCwKICAgICAgICB9LAogICAgICB9OwoKICAgICAgbGV0IHBlcmNlbnREb25lID0gZmlsZURhdGEuYnl0ZUxlbmd0aCA9PT0gMCA/CiAgICAgICAgICAxMDAgOgogICAgICAgICAgTWF0aC5yb3VuZCgocG9zaXRpb24gLyBmaWxlRGF0YS5ieXRlTGVuZ3RoKSAqIDEwMCk7CiAgICAgIHBlcmNlbnQudGV4dENvbnRlbnQgPSBgJHtwZXJjZW50RG9uZX0lIGRvbmVgOwoKICAgIH0gd2hpbGUgKHBvc2l0aW9uIDwgZmlsZURhdGEuYnl0ZUxlbmd0aCk7CiAgfQoKICAvLyBBbGwgZG9uZS4KICB5aWVsZCB7CiAgICByZXNwb25zZTogewogICAgICBhY3Rpb246ICdjb21wbGV0ZScsCiAgICB9CiAgfTsKfQoKc2NvcGUuZ29vZ2xlID0gc2NvcGUuZ29vZ2xlIHx8IHt9OwpzY29wZS5nb29nbGUuY29sYWIgPSBzY29wZS5nb29nbGUuY29sYWIgfHwge307CnNjb3BlLmdvb2dsZS5jb2xhYi5fZmlsZXMgPSB7CiAgX3VwbG9hZEZpbGVzLAogIF91cGxvYWRGaWxlc0NvbnRpbnVlLAp9Owp9KShzZWxmKTsK",
              "ok": true,
              "headers": [
                [
                  "content-type",
                  "application/javascript"
                ]
              ],
              "status": 200,
              "status_text": "OK"
            }
          },
          "base_uri": "https://localhost:8080/",
          "height": 108
        },
        "id": "COHMy-qPn4Ts",
        "outputId": "7f89e754-190a-4962-e1cf-a1db69f3ba68"
      },
      "execution_count": null,
      "outputs": [
        {
          "output_type": "display_data",
          "data": {
            "text/plain": [
              "<IPython.core.display.HTML object>"
            ],
            "text/html": [
              "\n",
              "     <input type=\"file\" id=\"files-837dcb38-ae1a-4634-a4aa-89c0f671ef9a\" name=\"files[]\" multiple disabled\n",
              "        style=\"border:none\" />\n",
              "     <output id=\"result-837dcb38-ae1a-4634-a4aa-89c0f671ef9a\">\n",
              "      Upload widget is only available when the cell has been executed in the\n",
              "      current browser session. Please rerun this cell to enable.\n",
              "      </output>\n",
              "      <script src=\"/nbextensions/google.colab/files.js\"></script> "
            ]
          },
          "metadata": {}
        },
        {
          "output_type": "stream",
          "name": "stdout",
          "text": [
            "Saving bitcoin_price_1week_Test - Test.csv to bitcoin_price_1week_Test - Test.csv\n",
            "Saving bitcoin_price_Training - Training.csv to bitcoin_price_Training - Training.csv\n"
          ]
        }
      ]
    },
    {
      "cell_type": "code",
      "source": [
        "df_train = pd.read_csv(io.BytesIO(uploaded['bitcoin_price_Training - Training.csv']))\n",
        "df_train = df_train[::-1].reset_index(drop=True)\n",
        "print(df_train)"
      ],
      "metadata": {
        "colab": {
          "base_uri": "https://localhost:8080/"
        },
        "id": "5ziTD6zBn4o8",
        "outputId": "dfccf742-f2be-4415-c4b9-d004fca868aa"
      },
      "execution_count": null,
      "outputs": [
        {
          "output_type": "stream",
          "name": "stdout",
          "text": [
            "              Date     Open     High      Low    Close         Volume  \\\n",
            "0     Apr 28, 2013   135.30   135.98   132.10   134.21              -   \n",
            "1     Apr 29, 2013   134.44   147.49   134.00   144.54              -   \n",
            "2     Apr 30, 2013   144.00   146.93   134.05   139.00              -   \n",
            "3     May 01, 2013   139.00   139.89   107.72   116.99              -   \n",
            "4     May 02, 2013   116.38   125.60    92.28   105.21              -   \n",
            "...            ...      ...      ...      ...      ...            ...   \n",
            "1551  Jul 27, 2017  2538.71  2693.32  2529.34  2671.78    789,104,000   \n",
            "1552  Jul 28, 2017  2679.73  2897.45  2679.73  2809.01  1,380,100,000   \n",
            "1553  Jul 29, 2017  2807.02  2808.76  2692.80  2726.45    803,746,000   \n",
            "1554  Jul 30, 2017  2724.39  2758.53  2644.85  2757.18    705,943,000   \n",
            "1555  Jul 31, 2017  2763.24  2889.62  2720.61  2875.34    860,575,000   \n",
            "\n",
            "          Market Cap  \n",
            "0      1,500,520,000  \n",
            "1      1,491,160,000  \n",
            "2      1,597,780,000  \n",
            "3      1,542,820,000  \n",
            "4      1,292,190,000  \n",
            "...              ...  \n",
            "1551  41,816,500,000  \n",
            "1552  44,144,400,000  \n",
            "1553  46,246,700,000  \n",
            "1554  44,890,700,000  \n",
            "1555  45,535,800,000  \n",
            "\n",
            "[1556 rows x 7 columns]\n"
          ]
        }
      ]
    },
    {
      "cell_type": "code",
      "source": [
        "df_test = pd.read_csv(io.BytesIO(uploaded['bitcoin_price_1week_Test - Test.csv']))\n",
        "df_test = df_test[::-1].reset_index(drop=True)\n",
        "print(df_test)"
      ],
      "metadata": {
        "colab": {
          "base_uri": "https://localhost:8080/"
        },
        "id": "10Q8fdkQpcpD",
        "outputId": "4a76d3d3-4eb5-4eb0-be78-910d73ce708e"
      },
      "execution_count": null,
      "outputs": [
        {
          "output_type": "stream",
          "name": "stdout",
          "text": [
            "           Date     Open     High      Low    Close         Volume  \\\n",
            "0  Aug 01, 2017  2871.30  2921.35  2685.61  2718.26  1,324,670,000   \n",
            "1  Aug 02, 2017  2727.13  2762.53  2668.59  2710.67  1,094,950,000   \n",
            "2  Aug 03, 2017  2709.56  2813.31  2685.14  2804.73    804,797,000   \n",
            "3  Aug 04, 2017  2806.93  2899.33  2743.72  2895.89  1,002,120,000   \n",
            "4  Aug 05, 2017  2897.63  3290.01  2874.83  3252.91  1,945,700,000   \n",
            "5  Aug 06, 2017  3257.61  3293.29  3155.60  3213.94  1,105,030,000   \n",
            "6  Aug 07, 2017  3212.78  3397.68  3180.89  3378.94  1,482,280,000   \n",
            "\n",
            "       Market Cap  \n",
            "0  47,321,800,000  \n",
            "1  44,950,800,000  \n",
            "2  44,666,400,000  \n",
            "3  46,276,200,000  \n",
            "4  47,778,200,000  \n",
            "5  53,720,900,000  \n",
            "6  52,987,300,000  \n"
          ]
        }
      ]
    },
    {
      "cell_type": "code",
      "source": [
        "train_data = df_train['Open']\n",
        "test_data = df_test['Open']"
      ],
      "metadata": {
        "id": "Rlr_5STZAqTh"
      },
      "execution_count": null,
      "outputs": []
    },
    {
      "cell_type": "code",
      "source": [
        "train_data = np.array(train_data)\n",
        "test_data = np.array(test_data)\n",
        "data = np.concatenate((train_data, test_data))"
      ],
      "metadata": {
        "id": "s8s2X7BoKJN5"
      },
      "execution_count": null,
      "outputs": []
    },
    {
      "cell_type": "code",
      "source": [
        "print(data.shape)"
      ],
      "metadata": {
        "colab": {
          "base_uri": "https://localhost:8080/"
        },
        "id": "eX8LM-zkaDZr",
        "outputId": "19ed6517-ba0d-4422-fedf-18d9053bb724"
      },
      "execution_count": null,
      "outputs": [
        {
          "output_type": "stream",
          "name": "stdout",
          "text": [
            "(1563,)\n"
          ]
        }
      ]
    },
    {
      "cell_type": "code",
      "source": [
        "scaler = MinMaxScaler(feature_range=(0, 1)).fit(data.reshape(data.shape[0], 1))\n",
        "data = scaler.transform(data.reshape(data.shape[0], 1))"
      ],
      "metadata": {
        "id": "KL4xp6MRImQk"
      },
      "execution_count": null,
      "outputs": []
    },
    {
      "cell_type": "code",
      "source": [
        "data = data.reshape(data.shape[0])\n",
        "train_data = data[:round(0.7*len(data))]\n",
        "test_data = data[round(0.7*len(data)):]\n",
        "print(data.shape)\n",
        "print(train_data.shape)\n",
        "print(test_data.shape)"
      ],
      "metadata": {
        "colab": {
          "base_uri": "https://localhost:8080/"
        },
        "id": "29vMl0QNaXt4",
        "outputId": "0d925922-9883-4c90-aa3a-6f9be85eb066"
      },
      "execution_count": null,
      "outputs": [
        {
          "output_type": "stream",
          "name": "stdout",
          "text": [
            "(1563,)\n",
            "(1094,)\n",
            "(469,)\n"
          ]
        }
      ]
    },
    {
      "cell_type": "code",
      "source": [
        "plt.plot(train_data)"
      ],
      "metadata": {
        "colab": {
          "base_uri": "https://localhost:8080/",
          "height": 282
        },
        "id": "pBkiK5mtcMli",
        "outputId": "18b3cfc9-5b13-4d59-fe45-c5f84e9d7bae"
      },
      "execution_count": null,
      "outputs": [
        {
          "output_type": "execute_result",
          "data": {
            "text/plain": [
              "[<matplotlib.lines.Line2D at 0x7f95cff3a150>]"
            ]
          },
          "metadata": {},
          "execution_count": 10
        },
        {
          "output_type": "display_data",
          "data": {
            "text/plain": [
              "<Figure size 432x288 with 1 Axes>"
            ],
            "image/png": "[encoded data removed]"
          },
          "metadata": {
            "needs_background": "light"
          }
        }
      ]
    },
    {
      "cell_type": "code",
      "source": [
        "plt.plot(test_data)"
      ],
      "metadata": {
        "colab": {
          "base_uri": "https://localhost:8080/",
          "height": 282
        },
        "id": "nm0hEXOicPtb",
        "outputId": "a77be032-fc73-47da-ce5a-69ebd0ed6e62"
      },
      "execution_count": null,
      "outputs": [
        {
          "output_type": "execute_result",
          "data": {
            "text/plain": [
              "[<matplotlib.lines.Line2D at 0x7f95cfa1b510>]"
            ]
          },
          "metadata": {},
          "execution_count": 11
        },
        {
          "output_type": "display_data",
          "data": {
            "text/plain": [
              "<Figure size 432x288 with 1 Axes>"
            ],
            "image/png": "[encoded data removed]"
          },
          "metadata": {
            "needs_background": "light"
          }
        }
      ]
    },
    {
      "cell_type": "code",
      "source": [
        "def create_data(data, timestep):\n",
        "  dataY = []\n",
        "  dataX = []\n",
        "  for i in range(len(data)-timestep):\n",
        "    dataX.append(data[i:i+timestep])\n",
        "    dataY.append(data[i+timestep])\n",
        "  return np.array(dataX), np.array(dataY)"
      ],
      "metadata": {
        "id": "8VZ9as5wEmfm"
      },
      "execution_count": null,
      "outputs": []
    },
    {
      "cell_type": "code",
      "source": [
        "timestep = 7\n",
        "trainX, trainY = create_data(train_data, timestep)\n",
        "trainX = np.reshape(trainX, (trainX.shape[0], timestep, 1))\n",
        "\n",
        "testX, testY = create_data(test_data, timestep)\n",
        "testX = np.reshape(testX, (testX.shape[0], timestep, 1))"
      ],
      "metadata": {
        "id": "7YLSBpL2GLMZ"
      },
      "execution_count": null,
      "outputs": []
    },
    {
      "cell_type": "code",
      "source": [
        "print(trainX.shape)\n",
        "print(trainY.shape)\n",
        "print(testX.shape)\n",
        "print(testY.shape)"
      ],
      "metadata": {
        "colab": {
          "base_uri": "https://localhost:8080/"
        },
        "id": "dxjE8iEwGYVp",
        "outputId": "5f849b92-c80e-4edc-cdcf-7f8ced2bbc51"
      },
      "execution_count": null,
      "outputs": [
        {
          "output_type": "stream",
          "name": "stdout",
          "text": [
            "(1087, 7, 1)\n",
            "(1087,)\n",
            "(462, 7, 1)\n",
            "(462,)\n"
          ]
        }
      ]
    },
    {
      "cell_type": "code",
      "source": [
        "model = tf.keras.models.Sequential([\n",
        "  tf.keras.layers.LSTM(4, input_shape=(timestep, 1)),\n",
        "  tf.keras.layers.Dense(1)\n",
        "])"
      ],
      "metadata": {
        "id": "ydUTMe1VEObH"
      },
      "execution_count": null,
      "outputs": []
    },
    {
      "cell_type": "code",
      "source": [
        "model.compile(loss='mean_squared_error', optimizer='adam')\n",
        "history = model.fit(trainX, trainY, epochs=50, batch_size=1, verbose=2, validation_data = (testX, testY))"
      ],
      "metadata": {
        "colab": {
          "base_uri": "https://localhost:8080/"
        },
        "id": "ZK0sSoq2Ehmo",
        "outputId": "d33dd1a1-5fb7-4cc3-ab85-8c84906a716e"
      },
      "execution_count": null,
      "outputs": [
        {
          "output_type": "stream",
          "name": "stdout",
          "text": [
            "Epoch 1/50\n",
            "1087/1087 - 4s - loss: 3.8595e-04 - 4s/epoch - 4ms/step\n",
            "Epoch 2/50\n",
            "1087/1087 - 2s - loss: 1.6567e-04 - 2s/epoch - 2ms/step\n",
            "Epoch 3/50\n",
            "1087/1087 - 2s - loss: 1.5263e-04 - 2s/epoch - 2ms/step\n",
            "Epoch 4/50\n",
            "1087/1087 - 2s - loss: 1.3965e-04 - 2s/epoch - 2ms/step\n",
            "Epoch 5/50\n",
            "1087/1087 - 3s - loss: 1.2245e-04 - 3s/epoch - 2ms/step\n",
            "Epoch 6/50\n",
            "1087/1087 - 2s - loss: 1.1095e-04 - 2s/epoch - 2ms/step\n",
            "Epoch 7/50\n",
            "1087/1087 - 2s - loss: 1.0268e-04 - 2s/epoch - 2ms/step\n",
            "Epoch 8/50\n",
            "1087/1087 - 2s - loss: 9.2221e-05 - 2s/epoch - 2ms/step\n",
            "Epoch 9/50\n",
            "1087/1087 - 3s - loss: 9.3657e-05 - 3s/epoch - 2ms/step\n",
            "Epoch 10/50\n",
            "1087/1087 - 3s - loss: 8.4880e-05 - 3s/epoch - 2ms/step\n",
            "Epoch 11/50\n",
            "1087/1087 - 2s - loss: 8.6674e-05 - 2s/epoch - 2ms/step\n",
            "Epoch 12/50\n",
            "1087/1087 - 2s - loss: 7.9504e-05 - 2s/epoch - 2ms/step\n",
            "Epoch 13/50\n",
            "1087/1087 - 2s - loss: 7.8088e-05 - 2s/epoch - 2ms/step\n",
            "Epoch 14/50\n",
            "1087/1087 - 2s - loss: 7.7408e-05 - 2s/epoch - 2ms/step\n",
            "Epoch 15/50\n",
            "1087/1087 - 3s - loss: 7.0541e-05 - 3s/epoch - 2ms/step\n",
            "Epoch 16/50\n",
            "1087/1087 - 3s - loss: 7.8363e-05 - 3s/epoch - 2ms/step\n",
            "Epoch 17/50\n",
            "1087/1087 - 2s - loss: 7.3899e-05 - 2s/epoch - 2ms/step\n",
            "Epoch 18/50\n",
            "1087/1087 - 3s - loss: 7.3634e-05 - 3s/epoch - 3ms/step\n",
            "Epoch 19/50\n",
            "1087/1087 - 3s - loss: 7.5485e-05 - 3s/epoch - 2ms/step\n",
            "Epoch 20/50\n",
            "1087/1087 - 2s - loss: 7.1429e-05 - 2s/epoch - 2ms/step\n",
            "Epoch 21/50\n",
            "1087/1087 - 2s - loss: 6.8166e-05 - 2s/epoch - 2ms/step\n",
            "Epoch 22/50\n",
            "1087/1087 - 2s - loss: 7.1563e-05 - 2s/epoch - 2ms/step\n",
            "Epoch 23/50\n",
            "1087/1087 - 2s - loss: 7.5809e-05 - 2s/epoch - 2ms/step\n",
            "Epoch 24/50\n",
            "1087/1087 - 2s - loss: 7.0413e-05 - 2s/epoch - 2ms/step\n",
            "Epoch 25/50\n",
            "1087/1087 - 2s - loss: 7.0968e-05 - 2s/epoch - 2ms/step\n",
            "Epoch 26/50\n",
            "1087/1087 - 2s - loss: 6.9273e-05 - 2s/epoch - 2ms/step\n",
            "Epoch 27/50\n",
            "1087/1087 - 2s - loss: 7.1109e-05 - 2s/epoch - 2ms/step\n",
            "Epoch 28/50\n",
            "1087/1087 - 2s - loss: 7.0349e-05 - 2s/epoch - 2ms/step\n",
            "Epoch 29/50\n",
            "1087/1087 - 2s - loss: 6.8847e-05 - 2s/epoch - 2ms/step\n",
            "Epoch 30/50\n",
            "1087/1087 - 2s - loss: 6.9182e-05 - 2s/epoch - 2ms/step\n",
            "Epoch 31/50\n",
            "1087/1087 - 2s - loss: 7.1929e-05 - 2s/epoch - 2ms/step\n",
            "Epoch 32/50\n",
            "1087/1087 - 2s - loss: 6.7699e-05 - 2s/epoch - 2ms/step\n",
            "Epoch 33/50\n",
            "1087/1087 - 2s - loss: 6.9400e-05 - 2s/epoch - 2ms/step\n",
            "Epoch 34/50\n",
            "1087/1087 - 2s - loss: 6.8130e-05 - 2s/epoch - 2ms/step\n",
            "Epoch 35/50\n",
            "1087/1087 - 2s - loss: 7.0810e-05 - 2s/epoch - 2ms/step\n",
            "Epoch 36/50\n",
            "1087/1087 - 2s - loss: 7.1480e-05 - 2s/epoch - 2ms/step\n",
            "Epoch 37/50\n",
            "1087/1087 - 2s - loss: 7.0585e-05 - 2s/epoch - 2ms/step\n",
            "Epoch 38/50\n",
            "1087/1087 - 2s - loss: 6.8340e-05 - 2s/epoch - 2ms/step\n",
            "Epoch 39/50\n",
            "1087/1087 - 2s - loss: 7.0537e-05 - 2s/epoch - 2ms/step\n",
            "Epoch 40/50\n",
            "1087/1087 - 2s - loss: 6.8047e-05 - 2s/epoch - 2ms/step\n",
            "Epoch 41/50\n",
            "1087/1087 - 3s - loss: 6.6319e-05 - 3s/epoch - 3ms/step\n",
            "Epoch 42/50\n",
            "1087/1087 - 2s - loss: 7.2260e-05 - 2s/epoch - 2ms/step\n",
            "Epoch 43/50\n",
            "1087/1087 - 3s - loss: 6.8409e-05 - 3s/epoch - 2ms/step\n",
            "Epoch 44/50\n",
            "1087/1087 - 2s - loss: 7.1484e-05 - 2s/epoch - 2ms/step\n",
            "Epoch 45/50\n",
            "1087/1087 - 2s - loss: 6.7643e-05 - 2s/epoch - 2ms/step\n",
            "Epoch 46/50\n",
            "1087/1087 - 2s - loss: 6.5532e-05 - 2s/epoch - 2ms/step\n",
            "Epoch 47/50\n",
            "1087/1087 - 3s - loss: 6.5689e-05 - 3s/epoch - 2ms/step\n",
            "Epoch 48/50\n",
            "1087/1087 - 3s - loss: 6.7446e-05 - 3s/epoch - 2ms/step\n",
            "Epoch 49/50\n",
            "1087/1087 - 3s - loss: 6.8001e-05 - 3s/epoch - 2ms/step\n",
            "Epoch 50/50\n",
            "1087/1087 - 3s - loss: 6.7456e-05 - 3s/epoch - 2ms/step\n"
          ]
        },
        {
          "output_type": "execute_result",
          "data": {
            "text/plain": [
              "<keras.callbacks.History at 0x7f95c87d55d0>"
            ]
          },
          "metadata": {},
          "execution_count": 39
        }
      ]
    },
    {
      "cell_type": "code",
      "source": [
        "trainPredict = model.predict(trainX)"
      ],
      "metadata": {
        "id": "if-VMIV2F9WN"
      },
      "execution_count": null,
      "outputs": []
    },
    {
      "cell_type": "code",
      "source": [
        "trainPredict = scaler.inverse_transform(trainPredict)\n",
        "trainY = scaler.inverse_transform(trainY.reshape(trainY.shape[0],1))"
      ],
      "metadata": {
        "id": "gN32NrUkPC7B"
      },
      "execution_count": null,
      "outputs": []
    },
    {
      "cell_type": "code",
      "source": [
        "plt.plot(trainY, label='Real')\n",
        "plt.plot(trainPredict, label='Predicted')\n",
        "plt.legend()"
      ],
      "metadata": {
        "colab": {
          "base_uri": "https://localhost:8080/",
          "height": 285
        },
        "id": "ZPPHsQH2IbG1",
        "outputId": "744e2ec4-3384-4091-99a2-7936b67089f9"
      },
      "execution_count": null,
      "outputs": [
        {
          "output_type": "execute_result",
          "data": {
            "text/plain": [
              "<matplotlib.legend.Legend at 0x7f95cffe3210>"
            ]
          },
          "metadata": {},
          "execution_count": 62
        },
        {
          "output_type": "display_data",
          "data": {
            "text/plain": [
              "<Figure size 432x288 with 1 Axes>"
            ],
            "image/png": "[encoded data removed]"
          },
          "metadata": {
            "needs_background": "light"
          }
        }
      ]
    },
    {
      "cell_type": "code",
      "source": [
        "trainScore = math.sqrt(mean_squared_error(trainY[:,0], trainPredict[:,0]))\n",
        "print('Train Score: %.2f RMSE' % (trainScore))"
      ],
      "metadata": {
        "colab": {
          "base_uri": "https://localhost:8080/"
        },
        "id": "gguzJ6tbcvpR",
        "outputId": "f4c769ec-7fde-40ca-e59a-31c27cef631f"
      },
      "execution_count": null,
      "outputs": [
        {
          "output_type": "stream",
          "name": "stdout",
          "text": [
            "Train Score: 23.93 RMSE\n"
          ]
        }
      ]
    },
    {
      "cell_type": "code",
      "source": [
        "testPredict = model.predict(testX)\n",
        "testPredict = scaler.inverse_transform(testPredict)\n",
        "testY = scaler.inverse_transform(testY.reshape(testY.shape[0],1))"
      ],
      "metadata": {
        "id": "A1zsnR8_PwOc"
      },
      "execution_count": null,
      "outputs": []
    },
    {
      "cell_type": "code",
      "source": [
        "plt.plot(testY, label='Real')\n",
        "plt.plot(testPredict, label='Predicted')\n",
        "plt.legend()"
      ],
      "metadata": {
        "colab": {
          "base_uri": "https://localhost:8080/",
          "height": 282
        },
        "id": "u93tPwq8P5k4",
        "outputId": "4159cb22-7431-4cb8-bf37-3a6f075ff5ed"
      },
      "execution_count": null,
      "outputs": [
        {
          "output_type": "execute_result",
          "data": {
            "text/plain": [
              "<matplotlib.legend.Legend at 0x7f95c2c38d10>"
            ]
          },
          "metadata": {},
          "execution_count": 65
        },
        {
          "output_type": "display_data",
          "data": {
            "text/plain": [
              "<Figure size 432x288 with 1 Axes>"
            ],
            "image/png": "[encoded data removed]"
          },
          "metadata": {
            "needs_background": "light"
          }
        }
      ]
    },
    {
      "cell_type": "code",
      "source": [
        "testScore = math.sqrt(mean_squared_error(testY[:,0], testPredict[:,0]))\n",
        "print('Test Score: %.2f RMSE' % (testScore))"
      ],
      "metadata": {
        "colab": {
          "base_uri": "https://localhost:8080/"
        },
        "id": "NGIdbd6kQ5tl",
        "outputId": "f35bd34a-ddf4-48a0-e34a-a84fe85bb297"
      },
      "execution_count": null,
      "outputs": [
        {
          "output_type": "stream",
          "name": "stdout",
          "text": [
            "Test Score: 121.71 RMSE\n"
          ]
        }
      ]
    },
    {
      "cell_type": "code",
      "source": [
        "plt.plot(history.history['loss'])\n",
        "plt.plot(history.history['val_loss'])\n",
        "plt.title('model train vs validation loss')\n",
        "plt.ylabel('loss')\n",
        "plt.xlabel('epoch')\n",
        "plt.legend(['train', 'validation'], loc='upper right')"
      ],
      "metadata": {
        "colab": {
          "base_uri": "https://localhost:8080/",
          "height": 312
        },
        "id": "KpGFPfmjh1eI",
        "outputId": "0635e2b5-dcd1-47f7-841a-9f318e6bac84"
      },
      "execution_count": null,
      "outputs": [
        {
          "output_type": "execute_result",
          "data": {
            "text/plain": [
              "<matplotlib.legend.Legend at 0x7f95c2e0ffd0>"
            ]
          },
          "metadata": {},
          "execution_count": 59
        },
        {
          "output_type": "display_data",
          "data": {
            "text/plain": [
              "<Figure size 432x288 with 1 Axes>"
            ],
            "image/png": "[encoded data removed]"
          },
          "metadata": {
            "needs_background": "light"
          }
        }
      ]
    }
  ]
}